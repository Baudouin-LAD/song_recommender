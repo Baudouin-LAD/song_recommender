{
 "cells": [
  {
   "cell_type": "code",
   "execution_count": 1,
   "metadata": {},
   "outputs": [
    {
     "ename": "ModuleNotFoundError",
     "evalue": "No module named 'config'",
     "output_type": "error",
     "traceback": [
      "\u001b[0;31m---------------------------------------------------------------------------\u001b[0m",
      "\u001b[0;31mModuleNotFoundError\u001b[0m                       Traceback (most recent call last)",
      "\u001b[0;32m/var/folders/wx/v19kf4_j1p1gwtlfg83w0_gm0000gn/T/ipykernel_23424/1182604236.py\u001b[0m in \u001b[0;36m<module>\u001b[0;34m\u001b[0m\n\u001b[1;32m      6\u001b[0m \u001b[0;32mimport\u001b[0m \u001b[0mpandas\u001b[0m \u001b[0;32mas\u001b[0m \u001b[0mpd\u001b[0m\u001b[0;34m\u001b[0m\u001b[0;34m\u001b[0m\u001b[0m\n\u001b[1;32m      7\u001b[0m \u001b[0;31m#%%Login Spotify API\u001b[0m\u001b[0;34m\u001b[0m\u001b[0;34m\u001b[0m\u001b[0m\n\u001b[0;32m----> 8\u001b[0;31m \u001b[0;32mimport\u001b[0m \u001b[0mconfig\u001b[0m\u001b[0;34m\u001b[0m\u001b[0;34m\u001b[0m\u001b[0m\n\u001b[0m\u001b[1;32m      9\u001b[0m \u001b[0;32mfrom\u001b[0m \u001b[0mspotipy\u001b[0m\u001b[0;34m.\u001b[0m\u001b[0moauth2\u001b[0m \u001b[0;32mimport\u001b[0m \u001b[0mSpotifyClientCredentials\u001b[0m\u001b[0;34m\u001b[0m\u001b[0;34m\u001b[0m\u001b[0m\n\u001b[1;32m     10\u001b[0m sp = spotipy.Spotify(auth_manager=SpotifyClientCredentials(client_id= config.client_id,\n",
      "\u001b[0;31mModuleNotFoundError\u001b[0m: No module named 'config'"
     ]
    }
   ],
   "source": [
    "#%%Libraries\n",
    "import requests\n",
    "from bs4 import BeautifulSoup as bs\n",
    "import spotipy\n",
    "import json\n",
    "import pandas as pd\n",
    "#%%Login Spotify API\n",
    "import config\n",
    "from spotipy.oauth2 import SpotifyClientCredentials\n",
    "sp = spotipy.Spotify(auth_manager=SpotifyClientCredentials(client_id= config.client_id,\n",
    "                                                           client_secret= config.client_secret))\n",
    "#%%Creating dataframe from playlist tool\n",
    "def extractor(playlist_id):\n",
    "    # create an empty data frame to store the song features\n",
    "    tracks_df = pd.DataFrame(columns=['name', 'artists', 'id', 'danceability', 'energy', 'key', 'loudness', 'mode', 'speechiness', 'acousticness', 'instrumentalness', 'liveness', 'valence', 'tempo', 'duration_ms', 'time_signature'])\n",
    "    \n",
    "    # set up the initial parameters for the playlist tracks request\n",
    "    playlist_tracks = sp.playlist_tracks(playlist_id)\n",
    "    tracks = playlist_tracks['items']\n",
    "    while playlist_tracks['next']:\n",
    "        playlist_tracks = sp.next(playlist_tracks)\n",
    "        tracks.extend(playlist_tracks['items'])\n",
    "    \n",
    "    # retrieve the song features for each track and append them to the data frame\n",
    "    for track in tracks:\n",
    "        track_id = track['track']['id']\n",
    "        track_features = sp.audio_features(track_id)[0]\n",
    "        track_row = {'name': track['track']['name'],\n",
    "                     'artists': track['track']['artists'][0]['name'],\n",
    "                     'id': track_id,\n",
    "                     'danceability': track_features['danceability'],\n",
    "                     'energy': track_features['energy'],\n",
    "                     'key': track_features['key'],\n",
    "                     'loudness': track_features['loudness'],\n",
    "                     'mode': track_features['mode'],\n",
    "                     'speechiness': track_features['speechiness'],\n",
    "                     'acousticness': track_features['acousticness'],\n",
    "                     'instrumentalness': track_features['instrumentalness'],\n",
    "                     'liveness': track_features['liveness'],\n",
    "                     'valence': track_features['valence'],\n",
    "                     'tempo': track_features['tempo'],\n",
    "                     'duration_ms': track_features['duration_ms'],\n",
    "                     'time_signature': track_features['time_signature']}\n",
    "        tracks_df = tracks_df.append(track_row, ignore_index=True)\n",
    "    \n",
    "    return tracks_df"
   ]
  }
 ],
 "metadata": {
  "kernelspec": {
   "display_name": "Python 3.9.13 ('base')",
   "language": "python",
   "name": "python3"
  },
  "language_info": {
   "codemirror_mode": {
    "name": "ipython",
    "version": 3
   },
   "file_extension": ".py",
   "mimetype": "text/x-python",
   "name": "python",
   "nbconvert_exporter": "python",
   "pygments_lexer": "ipython3",
   "version": "3.9.13"
  },
  "orig_nbformat": 4,
  "vscode": {
   "interpreter": {
    "hash": "10c7346f54b27ad5253690ed78a4d2b86ba9d410452bdbeecb17cfaf07bd74b5"
   }
  }
 },
 "nbformat": 4,
 "nbformat_minor": 2
}
